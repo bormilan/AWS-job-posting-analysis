{
 "cells": [
  {
   "cell_type": "markdown",
   "metadata": {},
   "source": [
    "# Job posting gathering"
   ]
  },
  {
   "cell_type": "code",
   "execution_count": 32,
   "metadata": {},
   "outputs": [],
   "source": [
    "import numpy as np\n",
    "import json\n",
    "import requests\n",
    "from bs4 import BeautifulSoup\n",
    "import re\n",
    "import time\n",
    "import itertools\n",
    "\n",
    "from selenium import webdriver\n",
    "from selenium.webdriver.support.ui import WebDriverWait\n",
    "from selenium.webdriver.common.by import By\n",
    "from selenium.webdriver.support import expected_conditions\n",
    "from selenium.common.exceptions import NoSuchElementException, ElementClickInterceptedException, ElementNotInteractableException, TimeoutException\n",
    "\n",
    "import methods.scrapefunctions as sfuncs\n",
    "import methods.urls as urlfuncs"
   ]
  },
  {
   "cell_type": "markdown",
   "metadata": {},
   "source": [
    "## Website: karriere.at"
   ]
  },
  {
   "cell_type": "code",
   "execution_count": 26,
   "metadata": {},
   "outputs": [],
   "source": [
    "def load_job_karriereat(url, driver=None, close_popup=False, wait_time_popup=2, wait=1, close_driver=True, return_url=False):\n",
    "    if driver is None:\n",
    "        driver = webdriver.Firefox()\n",
    "    driver.get(url)\n",
    "    button_selector = \".onetrust-close-btn-handler\"\n",
    "    if close_popup:\n",
    "        sfuncs.close_popup(button_selector, click_wait=wait_time_popup, post_click_wait=0,\n",
    "                            driver=driver, close_driver=False, open_page=False)\n",
    "    time.sleep(wait)\n",
    "    job_soup = BeautifulSoup(driver.page_source, 'html.parser')\n",
    "    if close_driver:\n",
    "        driver.quit()\n",
    "\n",
    "    if return_url:\n",
    "        return job_soup, url\n",
    "    return job_soup\n",
    "\n",
    "def load_jobs_karriereat(urls, driver=None, close_popup=False, wait_time_popup=2, wait=1, close_driver=True, return_urls=False):\n",
    "    if driver is None:\n",
    "        driver = webdriver.Firefox()\n",
    "    all_soups = []\n",
    "    returned_urls = []\n",
    "\n",
    "    for url in urls:\n",
    "        if return_urls:\n",
    "            soup, url = load_job_karriereat(url, driver=driver, close_popup=close_popup, \n",
    "                                   wait_time_popup=wait_time_popup, wait=wait, \n",
    "                                   close_driver=False, return_url=True)\n",
    "            returned_urls.append(url)\n",
    "        else:\n",
    "            soup = load_job_karriereat(url, driver=driver, close_popup=close_popup, \n",
    "                                       wait_time_popup=wait_time_popup, wait=wait, \n",
    "                                       close_driver=False, return_url=False)\n",
    "        all_soups.append(soup)\n",
    "\n",
    "    if close_driver:\n",
    "        driver.quit()\n",
    "\n",
    "    if return_urls:\n",
    "        return all_soups, returned_urls\n",
    "    return all_soups\n",
    "\n",
    "def load_page_karriereat(url, driver=None, close_popup=True, wait_time_popup=12, post_click_wait=1.5, close_driver=True):\n",
    "    if driver is None:\n",
    "        driver = webdriver.Firefox()\n",
    "    driver.get(url)\n",
    "    button_selector = \".onetrust-close-btn-handler\"\n",
    "    if close_popup:\n",
    "        sfuncs.close_popup(button_selector, click_wait=wait_time_popup, post_click_wait=post_click_wait,\n",
    "                            driver=driver, close_driver=False, open_page=False)\n",
    "    button_selector = \".m-loadMoreJobsButton__button\"\n",
    "    final_page_soup = sfuncs.press_button_until_gone(button_selector, wait_time=4, pre_click_wait=1,\n",
    "                                                driver=driver, close_driver=False, open_page=False)\n",
    "    if close_driver:\n",
    "        driver.quit()\n",
    "    return final_page_soup\n",
    "\n",
    "def load_pages_karriereat(urls, driver=None, close_popup=\"first\", click_wait=4, close_driver=True):\n",
    "    if driver is None:\n",
    "        driver = webdriver.Firefox()\n",
    "    all_soups = []\n",
    "    close_popup_bool = True\n",
    "    for i,url in enumerate(urls):\n",
    "        wait = click_wait\n",
    "        if close_popup==\"first\":\n",
    "            if i==0:\n",
    "                close_popup_bool = True\n",
    "                wait = 15\n",
    "            else:\n",
    "                close_popup_bool = False\n",
    "        elif (close_popup==\"all\") | (close_popup==True):\n",
    "            close_popup_bool = True\n",
    "            if i==0:\n",
    "                wait = 15\n",
    "        elif (close_popup==\"none\") | (close_popup==False):\n",
    "            close_popup_bool = False\n",
    "\n",
    "        soup = load_page_karriereat(url, driver=driver, close_popup=close_popup_bool, wait_time_popup=wait, close_driver=False)\n",
    "        all_soups.append(soup)\n",
    "\n",
    "    if close_driver:\n",
    "        driver.quit()\n",
    "    return all_soups\n",
    "\n",
    "def gather_data_karriereat(driver=None, close_driver=True):\n",
    "    titlewords =[\"machine-learning\",\"machine-learning-engineer\",\"machine-learning-scientist\",\n",
    "     \"ML-scientist\", \"ML-engineer\", \"ML-researcher\", \"ML-developer\", \"ML-AI\",\n",
    "     \"AI-engineer\", \"AI-scientist\", \"AI-researcher\", \"AI-developer\", \"AI-ML\", \n",
    "     \"data-science\",\"data-scientist\", \"data-mining\"\n",
    "     \"data-engineer\", \"data-engineering\", \"data-engineering-developer\",\n",
    "     \"data-analysis\", \"data-analytics\", \"data-analyst\",\n",
    "     \"business-intelligence\", \"business-intelligence-analyst\", \"bi-analyst\", \"business-analyst\",\n",
    "     ]\n",
    "    locations =[\"wien-und-umgebung\"]*len(titlewords)\n",
    "    urls_links = urlfuncs.urls_builder('https://www.karriere.at/jobs', [titlewords, locations], zipped = True, all_combinations = False)\n",
    "    \n",
    "    if driver is None:\n",
    "        driver = webdriver.Firefox()\n",
    "    soups = load_pages_karriereat(urls_links, driver=driver, close_popup=\"first\", close_driver=False)\n",
    "    pattern = 'div.m-jobsListItem__container div.m-jobsListItem__dataContainer h2.m-jobsListItem__title a.m-jobsListItem__titleLink'\n",
    "    \n",
    "    postings = {}\n",
    "    for soup in soups:\n",
    "        selects = soup.select(pattern)\n",
    "        for select in selects:\n",
    "            id = re.search(r'\\d+', select[\"href\"]).group()\n",
    "            if id not in postings.keys():\n",
    "                title = select.text\n",
    "                if title:\n",
    "                    title = title.strip()\n",
    "                postings[id] = {\"title\": title, \"url\": select[\"href\"], \"source\": \"karriere.at\", \"id\": id}\n",
    "    \n",
    "    url_jobs = [posting[\"url\"] for posting in postings.values()]\n",
    "    soups,returned_urls = load_jobs_karriereat(url_jobs, driver=driver, close_driver=False, return_urls=True)\n",
    "    ids = [re.search(r'\\d+', url).group() for url in returned_urls]\n",
    "\n",
    "    for i,soup in enumerate(soups):\n",
    "        description = soup.find(\"div\", class_=\"m-jobContent__jobText m-jobContent__jobText--standalone\")\n",
    "        if description:\n",
    "            description = description.text.strip()\n",
    "        postings[ids[i]][\"description\"] = description\n",
    "    \n",
    "    if close_driver:\n",
    "        driver.quit()\n",
    "    return postings"
   ]
  },
  {
   "cell_type": "code",
   "execution_count": 27,
   "metadata": {},
   "outputs": [],
   "source": [
    "postings = gather_data_karriereat()"
   ]
  },
  {
   "cell_type": "markdown",
   "metadata": {},
   "source": [
    "A summary of what we have gathered:"
   ]
  },
  {
   "cell_type": "code",
   "execution_count": 39,
   "metadata": {},
   "outputs": [
    {
     "name": "stdout",
     "output_type": "stream",
     "text": [
      "Number of postings: 462\n",
      "Number of postings with description: 460\n",
      "Total number of characters: 1783171\n",
      "Average number of characters (excluding 0-length descriptions): 3876.458695652174\n",
      "Total number of words: 226275\n",
      "Average number of words (excluding 0-length descriptions): 491.9021739130435\n"
     ]
    }
   ],
   "source": [
    "num_postings = len(postings)\n",
    "num_postings_with_description = len([posting for posting in postings.values() if posting[\"description\"]])\n",
    "description_length_sum = np.sum([len(posting[\"description\"]) for posting in postings.values() if posting[\"description\"]])\n",
    "description_length_avg = np.mean([len(posting[\"description\"]) for posting in postings.values() if posting[\"description\"]])\n",
    "description_words_sum = np.sum([len(posting[\"description\"].split()) for posting in postings.values() if posting[\"description\"]])\n",
    "description_words_avg = np.mean([len(posting[\"description\"].split()) for posting in postings.values() if posting[\"description\"]])\n",
    "\n",
    "print(f\"Number of postings: {num_postings}\")\n",
    "print(f\"Number of postings with description: {num_postings_with_description}\")\n",
    "print(f\"Total number of characters: {description_length_sum}\")\n",
    "print(f\"Average number of characters (excluding 0-length descriptions): {description_length_avg}\")\n",
    "print(f\"Total number of words: {description_words_sum}\")\n",
    "print(f\"Average number of words (excluding 0-length descriptions): {description_words_avg}\")"
   ]
  },
  {
   "cell_type": "markdown",
   "metadata": {},
   "source": [
    "An example:"
   ]
  },
  {
   "cell_type": "code",
   "execution_count": 44,
   "metadata": {},
   "outputs": [
    {
     "data": {
      "text/plain": [
       "{'title': 'IT-Netzwerkspezialist (w/m/x)',\n",
       " 'url': 'https://www.karriere.at/jobs/7379068',\n",
       " 'source': 'karriere.at',\n",
       " 'id': '7379068',\n",
       " 'description': 'IT-Netzwerkspezialist (w/m/x)Internationales Umfeld#Cisco#Linux#CloudWien 30 - 40% Homeoffice EUR 3.500 - EUR 5.000 Vollzeit Job Nr. EPIN40651 smart bewerben Deine zukünftige RolleAls IT-Netzwerkspezialist übernimmst du die Verantwortung für die Konfiguration, Überwachung und Wartung der Netzwerksysteme auf Linux-Basis. Zu deinen Aufgaben gehören: Firewall-Management, regelmäßige Audits sowie Verwaltung der Firewall-Infrastruktur, um sicherzustellen, dass die Netzwerksicherheit stets auf dem neuesten Stand ist Netzwerkvisualisierung, Erstellung und Pflege von Netzwerk-Mappings, um die Netzwerkarchitektur zu optimieren Unterstützung vor Ort, damit alle Systeme reibungslos laufen und um bei technischen Herausforderungen schnell regieren zu können Entwicklung und Pflege von Shell-Skripten Innovative IT-Projekte wie Secure Edge Networking und Zero Trust-Architekturen, um die Sicherheitsstandards des Unternehmens zu erhöhen Du bietestNeben einer abgeschlossenen Ausbildung im IT-Bereich und mehrjähriger Berufserfahrung in einer vergleichbaren Rolle bringst du folgendes mit: Erfahrung mit Cisco-Technologien, idealerweise in einem internationalen Umfeld Fundierte Linux-Kenntnisse (z.B. Red-Hat) Erfahrung mit Cloud-Technologien (AWS) sowie SASE und SD-WAN sind von Vorteil Fließende Sprachkenntnisse in Deutsch und Englisch sind erforderlich, um in einem internationalen Team erfolgreich zu arbeiten Ausgeprägte Teamfähigkeit, Kreativität beim Lösen von Problemen und eine proaktive Arbeitsweise Das Besondere an dieser PositionCutting Edge Technologien Innovative Projekte Internationales & modernes Umfeld BenefitsEssenszuschuss Flexible Arbeitszeiten Getränke Kaffee & Tee Kein All-In Obst Öffentliche Erreichbarkeit Onboarding Vertrauensarbeitszeit Weiterbildungen GehaltsspanneDas Gehalt liegt je nach Qualifikation & Erfahrung zwischen EUR 3.500 und EUR 5.000 brutto / Monat (auf Vollzeitbasis). Hier geht es zum Brutto Netto Rechner. Das UnternehmenUnser Kunde ist ein führendes Fintech Unternehmen, welches weltweit über 1500 Banken mit innovativen, von Machine Learning and Artificial Intelligence geprägten, Finanzprodukten bedient.smart bewerben Wenn Datenschutz deine Leidenschaft ist, kannst du dich gerne zu unseren Datenschutzbestimmungen informieren. Deine AnsprechpersonPhilip Savertschnig Recruiting Partner +4315238207155  Zum Personenprofil'}"
      ]
     },
     "execution_count": 44,
     "metadata": {},
     "output_type": "execute_result"
    }
   ],
   "source": [
    "postings[\"7379068\"]"
   ]
  },
  {
   "cell_type": "code",
   "execution_count": 41,
   "metadata": {},
   "outputs": [],
   "source": [
    "#Save data\n",
    "date_today = time.strftime(\"%Y-%m-%d\")\n",
    "\n",
    "with open(f\"source/save/postings_{date_today}.json\", \"w\") as f:\n",
    "    json.dump(postings, f)"
   ]
  },
  {
   "cell_type": "markdown",
   "metadata": {},
   "source": [
    "## TieTalent"
   ]
  },
  {
   "cell_type": "markdown",
   "metadata": {},
   "source": [
    "**In works**"
   ]
  },
  {
   "cell_type": "code",
   "execution_count": 79,
   "metadata": {},
   "outputs": [],
   "source": [
    "session = requests.Session()\n",
    "headers = {\n",
    "    'User-Agent': 'Mozilla/5.0 (Windows NT 10.0; Win64; x64) AppleWebKit/537.36 (KHTML, like Gecko) Chrome/58.0.3029.110 Safari/537.3'\n",
    "}\n",
    "\n",
    "url = 'https://tietalent.com/en/jobs?search=positions%5B0%5D%3DData_Engineer_5%26positions%5B1%5D%3DData_Analyst_36%26positions%5B2%5D%3DData_Scientist_37%26positions%5B3%5D%3DMachine_Learning_7%26positions%5B4%5D%3DBusiness_Intelligence_39%26positions%5B5%5D%3DNLP_14%26locations%5B0%5D%3DVienna_Vienna_Austria_304'\n",
    "response = session.get(url, headers=headers)"
   ]
  },
  {
   "cell_type": "markdown",
   "metadata": {},
   "source": [
    "Here, there is no scrolling needed, but checking try page 2, 3, ... will be desired."
   ]
  },
  {
   "cell_type": "code",
   "execution_count": 80,
   "metadata": {},
   "outputs": [],
   "source": [
    "soup = BeautifulSoup(response.content, 'html.parser')"
   ]
  }
 ],
 "metadata": {
  "kernelspec": {
   "display_name": "3.10.11",
   "language": "python",
   "name": "python3"
  },
  "language_info": {
   "codemirror_mode": {
    "name": "ipython",
    "version": 3
   },
   "file_extension": ".py",
   "mimetype": "text/x-python",
   "name": "python",
   "nbconvert_exporter": "python",
   "pygments_lexer": "ipython3",
   "version": "3.10.11"
  }
 },
 "nbformat": 4,
 "nbformat_minor": 2
}
